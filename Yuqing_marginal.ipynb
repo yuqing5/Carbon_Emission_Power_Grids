{
 "cells": [
  {
   "cell_type": "code",
   "execution_count": 1,
   "metadata": {},
   "outputs": [],
   "source": [
    "import csv\n",
    "import collections\n",
    "import numpy as np\n",
    "import cvxpy as cp"
   ]
  },
  {
   "cell_type": "code",
   "execution_count": 54,
   "metadata": {},
   "outputs": [],
   "source": [
    "num_buses = 6\n",
    "num_gen = 3\n",
    "generators = np.array([0,2,5]) # indexing so -1\n",
    "cost_vec = np.array([100.0, 150.0, 240.0]) # cost of each generator\n",
    "carbon_emission_rate_vec = np.array([2388.0, 904.0, 321.0]) # carbon emission of each generator co2/mhw\n",
    "graph = collections.defaultdict(list) # from: (to, line)\n",
    "graph_reverse = collections.defaultdict(list) # to: (from, line)\n",
    "line_to_nodes = []\n",
    "with open('6bus_topology.csv', 'r') as csvfile:\n",
    "    #next(csvfile)\n",
    "    for line in csvfile:\n",
    "        l = list(map(lambda x: int(x)-1, line.split(','))) # turn \"1,2\" to [1,2]\n",
    "        graph[l[0]].append((l[1], len(line_to_nodes)))\n",
    "        graph_reverse[l[1]].append((l[0], len(line_to_nodes)))\n",
    "        line_to_nodes.append(l)\n",
    "num_lines = len(line_to_nodes)\n",
    "load = np.random.uniform(0.2, 1.8, (num_buses, 1)) # load vector i.e. power demand at each bus/node\n",
    "line_flow_limit = np.full((num_lines, 1), 1.0) # largest line flow rate is 4.0\n",
    "neg_line_flow_limit = np.full((num_lines, 1), -1.0) # smallest is -4.0\n",
    "power_generation_limit = np.full((num_gen, 1), 3.0) # upper limit is 15\n",
    "neg_power_generation_limit = np.full((num_gen, 1), 0.0) # lower power generation limit is 0"
   ]
  },
  {
   "cell_type": "code",
   "execution_count": 55,
   "metadata": {},
   "outputs": [],
   "source": [
    "def get_avg_carbon(load):\n",
    "    graph = collections.defaultdict(list) # from: (to, line)\n",
    "    graph_reverse = collections.defaultdict(list) # to: (from, line)\n",
    "    line_to_nodes = []\n",
    "    with open('6bus_topology.csv', 'r') as csvfile:\n",
    "        #next(csvfile)\n",
    "        for line in csvfile:\n",
    "            l = list(map(lambda x: int(x)-1, line.split(','))) # turn \"1,2\" to [1,2]\n",
    "            graph[l[0]].append((l[1], len(line_to_nodes)))\n",
    "            graph_reverse[l[1]].append((l[0], len(line_to_nodes)))\n",
    "            line_to_nodes.append(l)\n",
    "    power_generation = cp.Variable(shape=(num_gen, 1)) # shape [num_gen, 1]\n",
    "    line_flow = cp.Variable(shape=(num_lines, 1)) # shape [num_line, 1]\n",
    "    # condition 5(b)\n",
    "    b = np.zeros((num_buses, num_gen), dtype=float) # a matrix to convert power_generation from [x1, x2, x3, x4, x5, x6] to [x1, x2, 0,0,0,0,0,0,0,0,0,x3, ...] of size 30*1\n",
    "    # b @ power_generation = new_power_generation\n",
    "    for i, v in enumerate(generators):\n",
    "        b[v][i] = 1.0\n",
    "    a = np.zeros((num_buses, num_lines), dtype=float) # this matrix uses ie. 1.0/-1.0 to represent inflow/outflow. \n",
    "    # for example, line 0 is [1,2], which means power flows from bus 1 to bus 2 at line flow rate x0 at line 0. \n",
    "    # We would -x0 at index 0 of new line flow and +x0 at index 1 of new line flow. \n",
    "    # So the new line flow of shape [num_bus, 1] means at each bus/node, what is the power flow (inflow-outflow at the node).\n",
    "    for i, v in enumerate(line_to_nodes):\n",
    "        a[v[0]][i] = 1.0\n",
    "        a[v[1]][i] = -1.0\n",
    "\n",
    "    prob = cp.Problem(cp.Minimize(cp.sum(cost_vec @ power_generation)), # eq 5(a)\n",
    "                    [b @ power_generation - load == a @ line_flow, # eqation 5(b) meaning: at each node/bus the power generated at this bus(some bus are generator) + the power inflow(can be negative) == the power demand at the bus\n",
    "                    line_flow <= line_flow_limit, # eq 5(c)\n",
    "                    line_flow >= neg_line_flow_limit, # eq 5(c)\n",
    "                    power_generation <= power_generation_limit, # eq 5(d)\n",
    "                    power_generation >= neg_power_generation_limit]) # eq 5(d)\n",
    "    prob.solve(solver=cp.CVXOPT)\n",
    "\n",
    "    for i, f in enumerate(line_flow.value):\n",
    "        if f < 0.0:\n",
    "            from_node, to_node = line_to_nodes[i]\n",
    "            graph[from_node].remove((to_node, i))\n",
    "            graph[to_node].append((from_node, i))\n",
    "            graph_reverse[to_node].remove((from_node, i))\n",
    "            graph_reverse[from_node].append((to_node, i))\n",
    "            line_flow.value[i] = -f\n",
    "    line_to_gen = collections.defaultdict(set)\n",
    "    node_to_gen = collections.defaultdict(set)\n",
    "    def dfs(g, n, visited):\n",
    "        if n in visited: return\n",
    "        visited.add(n)\n",
    "        node_to_gen[n].add(g)\n",
    "        for nei, line in graph[n]:\n",
    "            line_to_gen[line].add(g)\n",
    "            dfs(g, nei, visited)\n",
    "\n",
    "    for i, g in enumerate(generators):\n",
    "        visited = set()\n",
    "        if power_generation.value[i] >= 0.0001:\n",
    "            dfs(g, g, visited)\n",
    "    line_prop_mat=np.zeros((num_gen, num_lines), dtype=float)\n",
    "    bus_prop_mat=np.zeros((num_gen, num_buses), dtype=float)\n",
    "    # initially, if node_to_gen only has 1 generator, bus_prop_mat start with 1\n",
    "    for k, v in node_to_gen.items():\n",
    "        if len(v) == 1:\n",
    "            idx = list(generators).index(list(v)[0])\n",
    "            bus_prop_mat[idx][k] = 1.0\n",
    "    for k, v in line_to_gen.items():\n",
    "        if len(v) == 1:\n",
    "            idx = list(generators).index(list(v)[0])\n",
    "            line_prop_mat[idx][k] = 1.0\n",
    "    # visit nodes in topological order\n",
    "    # step 1: calculate bus_prop based on in flowing lines_prop\n",
    "    # step 2: calculate line_prop of out flowing lines\n",
    "    in_degree = collections.defaultdict(int)\n",
    "    for i, v in graph_reverse.items():\n",
    "        in_degree[i] = len(v)\n",
    "    q = [] # list of nodes with no inflow\n",
    "    topo_order = []\n",
    "    for g in generators:\n",
    "        if in_degree[g] == 0:\n",
    "            q.append(g)\n",
    "    while q:\n",
    "        cur = q.pop(0)\n",
    "        if len(node_to_gen[cur]) > 1:\n",
    "            out_total = load[cur][0]\n",
    "            for nei, out_line in graph[cur]:\n",
    "                out_total += line_flow.value[out_line]\n",
    "            for g in node_to_gen[cur]:\n",
    "                idx = list(generators).index(g)\n",
    "                if cur == g:\n",
    "                    bus_prop_mat[idx][cur] = power_generation.value[idx]/out_total\n",
    "                else:\n",
    "                    for nei, in_line in graph_reverse[cur]:\n",
    "                        bus_prop_mat[idx][cur] += line_flow.value[in_line]*line_prop_mat[idx][in_line]/out_total\n",
    "            for g in node_to_gen[cur]:\n",
    "                idx = list(generators).index(g)\n",
    "                for nei, out_line in graph[cur]:\n",
    "                    line_prop_mat[idx][out_line] = bus_prop_mat[idx][cur]\n",
    "\n",
    "        topo_order.append(cur)\n",
    "        for nei, line in graph[cur]:\n",
    "            in_degree[nei] -= 1\n",
    "            if in_degree[nei] == 0:\n",
    "                q.append(nei)\n",
    "    avg_carbon_emission_rate_node = carbon_emission_rate_vec @ bus_prop_mat\n",
    "    return avg_carbon_emission_rate_node"
   ]
  },
  {
   "cell_type": "code",
   "execution_count": 57,
   "metadata": {},
   "outputs": [
    {
     "name": "stdout",
     "output_type": "stream",
     "text": [
      "[0.01135126]\n",
      "[0.01708706]\n",
      "[0.00655382]\n",
      "[0.01195393]\n",
      "[0.01092496]\n",
      "[0.00972313]\n"
     ]
    },
    {
     "name": "stderr",
     "output_type": "stream",
     "text": [
      "C:\\Users\\syq41\\AppData\\Local\\Temp\\ipykernel_20292\\2941057862.py:91: DeprecationWarning: Conversion of an array with ndim > 0 to a scalar is deprecated, and will error in future. Ensure you extract a single element from your array before performing this operation. (Deprecated NumPy 1.25.)\n",
      "  bus_prop_mat[idx][cur] += line_flow.value[in_line]*line_prop_mat[idx][in_line]/out_total\n",
      "C:\\Users\\syq41\\AppData\\Local\\Temp\\ipykernel_20292\\2941057862.py:88: DeprecationWarning: Conversion of an array with ndim > 0 to a scalar is deprecated, and will error in future. Ensure you extract a single element from your array before performing this operation. (Deprecated NumPy 1.25.)\n",
      "  bus_prop_mat[idx][cur] = power_generation.value[idx]/out_total\n"
     ]
    }
   ],
   "source": [
    "margin_carbon_node = np.zeros((num_buses, 1), dtype=float)\n",
    "for i, v in enumerate(load):\n",
    "    avg_carbon_at_node = get_avg_carbon(load)[i]\n",
    "    epsi = v*0.01\n",
    "    load[i] += epsi\n",
    "    avg_carbon_at_node_after = get_avg_carbon(load)[i]\n",
    "    margin_carbon_node[i] = (avg_carbon_at_node_after - avg_carbon_at_node)/epsi\n",
    "    load[i] -= epsi\n",
    "    "
   ]
  },
  {
   "cell_type": "code",
   "execution_count": 59,
   "metadata": {},
   "outputs": [
    {
     "name": "stdout",
     "output_type": "stream",
     "text": [
      "Marginal Carbon Emission Rate at each bus is [[   0.    -603.365 -181.578 -430.547 -314.206    0.   ]]\n"
     ]
    }
   ],
   "source": [
    "print(\"Marginal Carbon Emission Rate at each bus is \" + str(np.round(margin_carbon_node.T, 3)))"
   ]
  }
 ],
 "metadata": {
  "kernelspec": {
   "display_name": "Python 3",
   "language": "python",
   "name": "python3"
  },
  "language_info": {
   "codemirror_mode": {
    "name": "ipython",
    "version": 3
   },
   "file_extension": ".py",
   "mimetype": "text/x-python",
   "name": "python",
   "nbconvert_exporter": "python",
   "pygments_lexer": "ipython3",
   "version": "3.11.6"
  }
 },
 "nbformat": 4,
 "nbformat_minor": 2
}
